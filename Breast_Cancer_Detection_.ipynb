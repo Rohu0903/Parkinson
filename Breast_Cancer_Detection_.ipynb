{
  "nbformat": 4,
  "nbformat_minor": 0,
  "metadata": {
    "colab": {
      "provenance": [],
      "authorship_tag": "ABX9TyOYwrch3ZIS4VcgACxHKBNM",
      "include_colab_link": true
    },
    "kernelspec": {
      "name": "python3",
      "display_name": "Python 3"
    },
    "language_info": {
      "name": "python"
    }
  },
  "cells": [
    {
      "cell_type": "markdown",
      "metadata": {
        "id": "view-in-github",
        "colab_type": "text"
      },
      "source": [
        "<a href=\"https://colab.research.google.com/github/Rohu0903/Parkinson/blob/main/Breast_Cancer_Detection_.ipynb\" target=\"_parent\"><img src=\"https://colab.research.google.com/assets/colab-badge.svg\" alt=\"Open In Colab\"/></a>"
      ]
    },
    {
      "cell_type": "code",
      "execution_count": null,
      "metadata": {
        "id": "ZFMGctVunjxj"
      },
      "outputs": [],
      "source": [
        "import pandas as pd\n",
        "import numpy as np\n",
        "from matplotlib import pyplot"
      ]
    },
    {
      "cell_type": "code",
      "source": [
        "from google.colab import files\n",
        "uploaded = files.upload()"
      ],
      "metadata": {
        "colab": {
          "base_uri": "https://localhost:8080/",
          "height": 73
        },
        "id": "HoFBcag4p9Ua",
        "outputId": "e1953a06-567d-4af0-81ea-905e0818e10d"
      },
      "execution_count": null,
      "outputs": [
        {
          "output_type": "display_data",
          "data": {
            "text/plain": [
              "<IPython.core.display.HTML object>"
            ],
            "text/html": [
              "\n",
              "     <input type=\"file\" id=\"files-31e0b036-d852-4f59-86a2-3a5a31a52e70\" name=\"files[]\" multiple disabled\n",
              "        style=\"border:none\" />\n",
              "     <output id=\"result-31e0b036-d852-4f59-86a2-3a5a31a52e70\">\n",
              "      Upload widget is only available when the cell has been executed in the\n",
              "      current browser session. Please rerun this cell to enable.\n",
              "      </output>\n",
              "      <script>// Copyright 2017 Google LLC\n",
              "//\n",
              "// Licensed under the Apache License, Version 2.0 (the \"License\");\n",
              "// you may not use this file except in compliance with the License.\n",
              "// You may obtain a copy of the License at\n",
              "//\n",
              "//      http://www.apache.org/licenses/LICENSE-2.0\n",
              "//\n",
              "// Unless required by applicable law or agreed to in writing, software\n",
              "// distributed under the License is distributed on an \"AS IS\" BASIS,\n",
              "// WITHOUT WARRANTIES OR CONDITIONS OF ANY KIND, either express or implied.\n",
              "// See the License for the specific language governing permissions and\n",
              "// limitations under the License.\n",
              "\n",
              "/**\n",
              " * @fileoverview Helpers for google.colab Python module.\n",
              " */\n",
              "(function(scope) {\n",
              "function span(text, styleAttributes = {}) {\n",
              "  const element = document.createElement('span');\n",
              "  element.textContent = text;\n",
              "  for (const key of Object.keys(styleAttributes)) {\n",
              "    element.style[key] = styleAttributes[key];\n",
              "  }\n",
              "  return element;\n",
              "}\n",
              "\n",
              "// Max number of bytes which will be uploaded at a time.\n",
              "const MAX_PAYLOAD_SIZE = 100 * 1024;\n",
              "\n",
              "function _uploadFiles(inputId, outputId) {\n",
              "  const steps = uploadFilesStep(inputId, outputId);\n",
              "  const outputElement = document.getElementById(outputId);\n",
              "  // Cache steps on the outputElement to make it available for the next call\n",
              "  // to uploadFilesContinue from Python.\n",
              "  outputElement.steps = steps;\n",
              "\n",
              "  return _uploadFilesContinue(outputId);\n",
              "}\n",
              "\n",
              "// This is roughly an async generator (not supported in the browser yet),\n",
              "// where there are multiple asynchronous steps and the Python side is going\n",
              "// to poll for completion of each step.\n",
              "// This uses a Promise to block the python side on completion of each step,\n",
              "// then passes the result of the previous step as the input to the next step.\n",
              "function _uploadFilesContinue(outputId) {\n",
              "  const outputElement = document.getElementById(outputId);\n",
              "  const steps = outputElement.steps;\n",
              "\n",
              "  const next = steps.next(outputElement.lastPromiseValue);\n",
              "  return Promise.resolve(next.value.promise).then((value) => {\n",
              "    // Cache the last promise value to make it available to the next\n",
              "    // step of the generator.\n",
              "    outputElement.lastPromiseValue = value;\n",
              "    return next.value.response;\n",
              "  });\n",
              "}\n",
              "\n",
              "/**\n",
              " * Generator function which is called between each async step of the upload\n",
              " * process.\n",
              " * @param {string} inputId Element ID of the input file picker element.\n",
              " * @param {string} outputId Element ID of the output display.\n",
              " * @return {!Iterable<!Object>} Iterable of next steps.\n",
              " */\n",
              "function* uploadFilesStep(inputId, outputId) {\n",
              "  const inputElement = document.getElementById(inputId);\n",
              "  inputElement.disabled = false;\n",
              "\n",
              "  const outputElement = document.getElementById(outputId);\n",
              "  outputElement.innerHTML = '';\n",
              "\n",
              "  const pickedPromise = new Promise((resolve) => {\n",
              "    inputElement.addEventListener('change', (e) => {\n",
              "      resolve(e.target.files);\n",
              "    });\n",
              "  });\n",
              "\n",
              "  const cancel = document.createElement('button');\n",
              "  inputElement.parentElement.appendChild(cancel);\n",
              "  cancel.textContent = 'Cancel upload';\n",
              "  const cancelPromise = new Promise((resolve) => {\n",
              "    cancel.onclick = () => {\n",
              "      resolve(null);\n",
              "    };\n",
              "  });\n",
              "\n",
              "  // Wait for the user to pick the files.\n",
              "  const files = yield {\n",
              "    promise: Promise.race([pickedPromise, cancelPromise]),\n",
              "    response: {\n",
              "      action: 'starting',\n",
              "    }\n",
              "  };\n",
              "\n",
              "  cancel.remove();\n",
              "\n",
              "  // Disable the input element since further picks are not allowed.\n",
              "  inputElement.disabled = true;\n",
              "\n",
              "  if (!files) {\n",
              "    return {\n",
              "      response: {\n",
              "        action: 'complete',\n",
              "      }\n",
              "    };\n",
              "  }\n",
              "\n",
              "  for (const file of files) {\n",
              "    const li = document.createElement('li');\n",
              "    li.append(span(file.name, {fontWeight: 'bold'}));\n",
              "    li.append(span(\n",
              "        `(${file.type || 'n/a'}) - ${file.size} bytes, ` +\n",
              "        `last modified: ${\n",
              "            file.lastModifiedDate ? file.lastModifiedDate.toLocaleDateString() :\n",
              "                                    'n/a'} - `));\n",
              "    const percent = span('0% done');\n",
              "    li.appendChild(percent);\n",
              "\n",
              "    outputElement.appendChild(li);\n",
              "\n",
              "    const fileDataPromise = new Promise((resolve) => {\n",
              "      const reader = new FileReader();\n",
              "      reader.onload = (e) => {\n",
              "        resolve(e.target.result);\n",
              "      };\n",
              "      reader.readAsArrayBuffer(file);\n",
              "    });\n",
              "    // Wait for the data to be ready.\n",
              "    let fileData = yield {\n",
              "      promise: fileDataPromise,\n",
              "      response: {\n",
              "        action: 'continue',\n",
              "      }\n",
              "    };\n",
              "\n",
              "    // Use a chunked sending to avoid message size limits. See b/62115660.\n",
              "    let position = 0;\n",
              "    do {\n",
              "      const length = Math.min(fileData.byteLength - position, MAX_PAYLOAD_SIZE);\n",
              "      const chunk = new Uint8Array(fileData, position, length);\n",
              "      position += length;\n",
              "\n",
              "      const base64 = btoa(String.fromCharCode.apply(null, chunk));\n",
              "      yield {\n",
              "        response: {\n",
              "          action: 'append',\n",
              "          file: file.name,\n",
              "          data: base64,\n",
              "        },\n",
              "      };\n",
              "\n",
              "      let percentDone = fileData.byteLength === 0 ?\n",
              "          100 :\n",
              "          Math.round((position / fileData.byteLength) * 100);\n",
              "      percent.textContent = `${percentDone}% done`;\n",
              "\n",
              "    } while (position < fileData.byteLength);\n",
              "  }\n",
              "\n",
              "  // All done.\n",
              "  yield {\n",
              "    response: {\n",
              "      action: 'complete',\n",
              "    }\n",
              "  };\n",
              "}\n",
              "\n",
              "scope.google = scope.google || {};\n",
              "scope.google.colab = scope.google.colab || {};\n",
              "scope.google.colab._files = {\n",
              "  _uploadFiles,\n",
              "  _uploadFilesContinue,\n",
              "};\n",
              "})(self);\n",
              "</script> "
            ]
          },
          "metadata": {}
        },
        {
          "output_type": "stream",
          "name": "stdout",
          "text": [
            "Saving breast-cancer.csv to breast-cancer (1).csv\n"
          ]
        }
      ]
    },
    {
      "cell_type": "code",
      "source": [
        "dataset = pd.read_csv('breast-cancer.csv')"
      ],
      "metadata": {
        "id": "UTog4npIqON0"
      },
      "execution_count": null,
      "outputs": []
    },
    {
      "cell_type": "code",
      "source": [
        "print(dataset.shape)\n",
        "print(dataset.head(5))"
      ],
      "metadata": {
        "colab": {
          "base_uri": "https://localhost:8080/"
        },
        "id": "J9pl4ORqqcpJ",
        "outputId": "26232950-bf02-4821-f249-d144131f9757"
      },
      "execution_count": null,
      "outputs": [
        {
          "output_type": "stream",
          "name": "stdout",
          "text": [
            "(569, 32)\n",
            "         id diagnosis  radius_mean  texture_mean  perimeter_mean  area_mean  \\\n",
            "0    842302         M        17.99         10.38          122.80     1001.0   \n",
            "1    842517         M        20.57         17.77          132.90     1326.0   \n",
            "2  84300903         M        19.69         21.25          130.00     1203.0   \n",
            "3  84348301         M        11.42         20.38           77.58      386.1   \n",
            "4  84358402         M        20.29         14.34          135.10     1297.0   \n",
            "\n",
            "   smoothness_mean  compactness_mean  concavity_mean  concave points_mean  \\\n",
            "0          0.11840           0.27760          0.3001              0.14710   \n",
            "1          0.08474           0.07864          0.0869              0.07017   \n",
            "2          0.10960           0.15990          0.1974              0.12790   \n",
            "3          0.14250           0.28390          0.2414              0.10520   \n",
            "4          0.10030           0.13280          0.1980              0.10430   \n",
            "\n",
            "   ...  radius_worst  texture_worst  perimeter_worst  area_worst  \\\n",
            "0  ...         25.38          17.33           184.60      2019.0   \n",
            "1  ...         24.99          23.41           158.80      1956.0   \n",
            "2  ...         23.57          25.53           152.50      1709.0   \n",
            "3  ...         14.91          26.50            98.87       567.7   \n",
            "4  ...         22.54          16.67           152.20      1575.0   \n",
            "\n",
            "   smoothness_worst  compactness_worst  concavity_worst  concave points_worst  \\\n",
            "0            0.1622             0.6656           0.7119                0.2654   \n",
            "1            0.1238             0.1866           0.2416                0.1860   \n",
            "2            0.1444             0.4245           0.4504                0.2430   \n",
            "3            0.2098             0.8663           0.6869                0.2575   \n",
            "4            0.1374             0.2050           0.4000                0.1625   \n",
            "\n",
            "   symmetry_worst  fractal_dimension_worst  \n",
            "0          0.4601                  0.11890  \n",
            "1          0.2750                  0.08902  \n",
            "2          0.3613                  0.08758  \n",
            "3          0.6638                  0.17300  \n",
            "4          0.2364                  0.07678  \n",
            "\n",
            "[5 rows x 32 columns]\n"
          ]
        }
      ]
    },
    {
      "cell_type": "markdown",
      "source": [
        "Mapping Class String Values to Numbers"
      ],
      "metadata": {
        "id": "suSwM6Hk2hj_"
      }
    },
    {
      "cell_type": "code",
      "source": [
        "dataset['diagnosis']= dataset['diagnosis'].map({'B':0,'M':1}).astype(int)\n",
        "#this line of code is transforming the data in a column called 'diagnosis' in a dataset:\n",
        "#Mapping Values: It replaces specific text values with numbers. Here, 'B' (which might stand for \"benign\") is replaced with 0, and 'M' (which might stand for \"malignant\") is replaced with 1.\n",
        "#Changing Data Type: After replacing the text with numbers, it converts the data in the 'diagnosis' column to integers.\n",
        "#So, if you had a column with values like 'B', 'M', 'B', the code changes it to 0, 1, 0. This process helps in making the data easier to analyze, especially for machine learning algorithms.\n",
        "print(dataset.head)"
      ],
      "metadata": {
        "colab": {
          "base_uri": "https://localhost:8080/"
        },
        "id": "LeL6iFCAqcMO",
        "outputId": "5746bc61-7e8e-4ef7-e51e-4c3841f4dc7d"
      },
      "execution_count": null,
      "outputs": [
        {
          "output_type": "stream",
          "name": "stdout",
          "text": [
            "<bound method NDFrame.head of            id  diagnosis  radius_mean  texture_mean  perimeter_mean  \\\n",
            "0      842302          1        17.99         10.38          122.80   \n",
            "1      842517          1        20.57         17.77          132.90   \n",
            "2    84300903          1        19.69         21.25          130.00   \n",
            "3    84348301          1        11.42         20.38           77.58   \n",
            "4    84358402          1        20.29         14.34          135.10   \n",
            "..        ...        ...          ...           ...             ...   \n",
            "564    926424          1        21.56         22.39          142.00   \n",
            "565    926682          1        20.13         28.25          131.20   \n",
            "566    926954          1        16.60         28.08          108.30   \n",
            "567    927241          1        20.60         29.33          140.10   \n",
            "568     92751          0         7.76         24.54           47.92   \n",
            "\n",
            "     area_mean  smoothness_mean  compactness_mean  concavity_mean  \\\n",
            "0       1001.0          0.11840           0.27760         0.30010   \n",
            "1       1326.0          0.08474           0.07864         0.08690   \n",
            "2       1203.0          0.10960           0.15990         0.19740   \n",
            "3        386.1          0.14250           0.28390         0.24140   \n",
            "4       1297.0          0.10030           0.13280         0.19800   \n",
            "..         ...              ...               ...             ...   \n",
            "564     1479.0          0.11100           0.11590         0.24390   \n",
            "565     1261.0          0.09780           0.10340         0.14400   \n",
            "566      858.1          0.08455           0.10230         0.09251   \n",
            "567     1265.0          0.11780           0.27700         0.35140   \n",
            "568      181.0          0.05263           0.04362         0.00000   \n",
            "\n",
            "     concave points_mean  ...  radius_worst  texture_worst  perimeter_worst  \\\n",
            "0                0.14710  ...        25.380          17.33           184.60   \n",
            "1                0.07017  ...        24.990          23.41           158.80   \n",
            "2                0.12790  ...        23.570          25.53           152.50   \n",
            "3                0.10520  ...        14.910          26.50            98.87   \n",
            "4                0.10430  ...        22.540          16.67           152.20   \n",
            "..                   ...  ...           ...            ...              ...   \n",
            "564              0.13890  ...        25.450          26.40           166.10   \n",
            "565              0.09791  ...        23.690          38.25           155.00   \n",
            "566              0.05302  ...        18.980          34.12           126.70   \n",
            "567              0.15200  ...        25.740          39.42           184.60   \n",
            "568              0.00000  ...         9.456          30.37            59.16   \n",
            "\n",
            "     area_worst  smoothness_worst  compactness_worst  concavity_worst  \\\n",
            "0        2019.0           0.16220            0.66560           0.7119   \n",
            "1        1956.0           0.12380            0.18660           0.2416   \n",
            "2        1709.0           0.14440            0.42450           0.4504   \n",
            "3         567.7           0.20980            0.86630           0.6869   \n",
            "4        1575.0           0.13740            0.20500           0.4000   \n",
            "..          ...               ...                ...              ...   \n",
            "564      2027.0           0.14100            0.21130           0.4107   \n",
            "565      1731.0           0.11660            0.19220           0.3215   \n",
            "566      1124.0           0.11390            0.30940           0.3403   \n",
            "567      1821.0           0.16500            0.86810           0.9387   \n",
            "568       268.6           0.08996            0.06444           0.0000   \n",
            "\n",
            "     concave points_worst  symmetry_worst  fractal_dimension_worst  \n",
            "0                  0.2654          0.4601                  0.11890  \n",
            "1                  0.1860          0.2750                  0.08902  \n",
            "2                  0.2430          0.3613                  0.08758  \n",
            "3                  0.2575          0.6638                  0.17300  \n",
            "4                  0.1625          0.2364                  0.07678  \n",
            "..                    ...             ...                      ...  \n",
            "564                0.2216          0.2060                  0.07115  \n",
            "565                0.1628          0.2572                  0.06637  \n",
            "566                0.1418          0.2218                  0.07820  \n",
            "567                0.2650          0.4087                  0.12400  \n",
            "568                0.0000          0.2871                  0.07039  \n",
            "\n",
            "[569 rows x 32 columns]>\n"
          ]
        }
      ]
    },
    {
      "cell_type": "markdown",
      "source": [
        "Segregate Dataset into X(Input Variable)& y(Output Variable)"
      ],
      "metadata": {
        "id": "TnuVQOP92sOj"
      }
    },
    {
      "cell_type": "code",
      "source": [
        "X = dataset.iloc[:,2:32].values\n",
        "#Selecting Columns: 2:32 refers to the range of columns you're interested in. In this case, it's selecting columns from index 2 up to, but not including, index 32.\n",
        "X"
      ],
      "metadata": {
        "colab": {
          "base_uri": "https://localhost:8080/"
        },
        "id": "o-OdFmA_qYe3",
        "outputId": "d343d2cf-82d0-414c-fe7e-d6a27ffa2ce6"
      },
      "execution_count": null,
      "outputs": [
        {
          "output_type": "execute_result",
          "data": {
            "text/plain": [
              "array([[1.799e+01, 1.038e+01, 1.228e+02, ..., 2.654e-01, 4.601e-01,\n",
              "        1.189e-01],\n",
              "       [2.057e+01, 1.777e+01, 1.329e+02, ..., 1.860e-01, 2.750e-01,\n",
              "        8.902e-02],\n",
              "       [1.969e+01, 2.125e+01, 1.300e+02, ..., 2.430e-01, 3.613e-01,\n",
              "        8.758e-02],\n",
              "       ...,\n",
              "       [1.660e+01, 2.808e+01, 1.083e+02, ..., 1.418e-01, 2.218e-01,\n",
              "        7.820e-02],\n",
              "       [2.060e+01, 2.933e+01, 1.401e+02, ..., 2.650e-01, 4.087e-01,\n",
              "        1.240e-01],\n",
              "       [7.760e+00, 2.454e+01, 4.792e+01, ..., 0.000e+00, 2.871e-01,\n",
              "        7.039e-02]])"
            ]
          },
          "metadata": {},
          "execution_count": 10
        }
      ]
    },
    {
      "cell_type": "code",
      "source": [
        "Y = dataset.iloc[:,1].values\n",
        "Y"
      ],
      "metadata": {
        "colab": {
          "base_uri": "https://localhost:8080/"
        },
        "id": "BpeR_wDnqWFs",
        "outputId": "8db4d23e-ba3d-4053-f75a-916034fda94a"
      },
      "execution_count": null,
      "outputs": [
        {
          "output_type": "execute_result",
          "data": {
            "text/plain": [
              "array([1, 1, 1, 1, 1, 1, 1, 1, 1, 1, 1, 1, 1, 1, 1, 1, 1, 1, 1, 0, 0, 0,\n",
              "       1, 1, 1, 1, 1, 1, 1, 1, 1, 1, 1, 1, 1, 1, 1, 0, 1, 1, 1, 1, 1, 1,\n",
              "       1, 1, 0, 1, 0, 0, 0, 0, 0, 1, 1, 0, 1, 1, 0, 0, 0, 0, 1, 0, 1, 1,\n",
              "       0, 0, 0, 0, 1, 0, 1, 1, 0, 1, 0, 1, 1, 0, 0, 0, 1, 1, 0, 1, 1, 1,\n",
              "       0, 0, 0, 1, 0, 0, 1, 1, 0, 0, 0, 1, 1, 0, 0, 0, 0, 1, 0, 0, 1, 0,\n",
              "       0, 0, 0, 0, 0, 0, 0, 1, 1, 1, 0, 1, 1, 0, 0, 0, 1, 1, 0, 1, 0, 1,\n",
              "       1, 0, 1, 1, 0, 0, 1, 0, 0, 1, 0, 0, 0, 0, 1, 0, 0, 0, 0, 0, 0, 0,\n",
              "       0, 0, 1, 0, 0, 0, 0, 1, 1, 0, 1, 0, 0, 1, 1, 0, 0, 1, 1, 0, 0, 0,\n",
              "       0, 1, 0, 0, 1, 1, 1, 0, 1, 0, 1, 0, 0, 0, 1, 0, 0, 1, 1, 0, 1, 1,\n",
              "       1, 1, 0, 1, 1, 1, 0, 1, 0, 1, 0, 0, 1, 0, 1, 1, 1, 1, 0, 0, 1, 1,\n",
              "       0, 0, 0, 1, 0, 0, 0, 0, 0, 1, 1, 0, 0, 1, 0, 0, 1, 1, 0, 1, 0, 0,\n",
              "       0, 0, 1, 0, 0, 0, 0, 0, 1, 0, 1, 1, 1, 1, 1, 1, 1, 1, 1, 1, 1, 1,\n",
              "       1, 1, 0, 0, 0, 0, 0, 0, 1, 0, 1, 0, 0, 1, 0, 0, 1, 0, 1, 1, 0, 0,\n",
              "       0, 0, 0, 0, 0, 0, 0, 0, 0, 0, 0, 1, 0, 0, 1, 0, 1, 0, 0, 0, 0, 0,\n",
              "       0, 0, 0, 0, 0, 0, 0, 0, 0, 1, 0, 0, 0, 1, 0, 1, 0, 0, 0, 0, 1, 1,\n",
              "       1, 0, 0, 0, 0, 1, 0, 1, 0, 1, 0, 0, 0, 1, 0, 0, 0, 0, 0, 0, 0, 1,\n",
              "       1, 1, 0, 0, 0, 0, 0, 0, 0, 0, 0, 0, 0, 1, 1, 0, 1, 1, 1, 0, 1, 1,\n",
              "       0, 0, 0, 0, 0, 1, 0, 0, 0, 0, 0, 1, 0, 0, 0, 1, 0, 0, 1, 1, 0, 0,\n",
              "       0, 0, 0, 0, 1, 0, 0, 0, 0, 0, 0, 0, 1, 0, 0, 0, 0, 0, 1, 0, 0, 1,\n",
              "       0, 0, 0, 0, 0, 0, 0, 0, 0, 0, 0, 0, 1, 0, 1, 1, 0, 1, 0, 0, 0, 0,\n",
              "       0, 1, 0, 0, 1, 0, 1, 0, 0, 1, 0, 1, 0, 0, 0, 0, 0, 0, 0, 0, 1, 1,\n",
              "       0, 0, 0, 0, 0, 0, 1, 0, 0, 0, 0, 0, 0, 0, 0, 0, 0, 1, 0, 0, 0, 0,\n",
              "       0, 0, 0, 1, 0, 1, 0, 0, 1, 0, 0, 0, 0, 0, 1, 1, 0, 1, 0, 1, 0, 0,\n",
              "       0, 0, 0, 1, 0, 0, 1, 0, 1, 0, 1, 1, 0, 0, 0, 1, 0, 0, 0, 0, 0, 0,\n",
              "       0, 0, 0, 0, 0, 1, 0, 1, 1, 0, 0, 0, 0, 0, 0, 0, 0, 0, 0, 0, 0, 0,\n",
              "       0, 0, 0, 0, 0, 0, 0, 0, 0, 0, 0, 0, 1, 1, 1, 1, 1, 1, 0])"
            ]
          },
          "metadata": {},
          "execution_count": 11
        }
      ]
    },
    {
      "cell_type": "markdown",
      "source": [
        "Splitting Dataset Into Train & Test"
      ],
      "metadata": {
        "id": "f2GNplyH292U"
      }
    },
    {
      "cell_type": "code",
      "source": [
        "from sklearn.model_selection import train_test_split\n",
        "X_train,X_test,y_train,y_test = train_test_split(X,Y,test_size = 0.25, random_state = 0)\n",
        "#test_size = 0.25: This means 25% of the data will be used for testing, and the remaining 75% will be used for training.\n",
        "#random_state = 0: This ensures that the split is the same every time you run the code, which is useful for reproducibility."
      ],
      "metadata": {
        "id": "gcanYyjgsDp4"
      },
      "execution_count": null,
      "outputs": []
    },
    {
      "cell_type": "markdown",
      "source": [
        "Feature Scaling\n",
        "              # we scale our data to make all the features contribute equally to the result\n",
        "               #Fit_Transform-fit method is calculating the mean and variance of each of the features present in our data\n",
        "              TRANSFORM - transform method is transforming all the features using the respective mean and variance,\n",
        "              We want our test data to be a completely new and a surprise set of our model"
      ],
      "metadata": {
        "id": "eGZLMFcu3MoO"
      }
    },
    {
      "cell_type": "code",
      "source": [
        "from sklearn.preprocessing import StandardScaler\n",
        "sc=StandardScaler()\n",
        "X_train = sc.fit_transform(X_train)\n",
        "X_test = sc.transform(X_test)"
      ],
      "metadata": {
        "id": "RyquxMtytGP2"
      },
      "execution_count": null,
      "outputs": []
    },
    {
      "cell_type": "code",
      "source": [
        "from sklearn.discriminant_analysis import LinearDiscriminantAnalysis\n",
        "from sklearn.linear_model import LogisticRegression\n",
        "from sklearn.tree import DecisionTreeClassifier\n",
        "from sklearn.neighbors import KNeighborsClassifier\n",
        "from sklearn.naive_bayes import GaussianNB\n",
        "from sklearn.svm import SVC\n",
        "\n",
        "from sklearn.model_selection import cross_val_score\n",
        "from sklearn.model_selection import StratifiedKFold"
      ],
      "metadata": {
        "id": "WKc-UN6QtlKo"
      },
      "execution_count": null,
      "outputs": []
    },
    {
      "cell_type": "markdown",
      "source": [
        " K NEAREST NEIGHBORS\n",
        "\n",
        "  Let’s say you have a bunch of fruits and you want to classify a new fruit. You have data about various fruits, like their color, size, and weight, and which type of fruit they are (apple, orange, banana, etc.).\n",
        "\n",
        "Step 1: You collect data on the new fruit (let's say it's small, red, and round).\n",
        "\n",
        "Step 2: The KNeighborsClassifier algorithm will look at the data points of other fruits that are similar in size, color, and shape.\n",
        "\n",
        "Step 3: It will find the 'k' closest fruits (neighbors) to your new fruit.\n",
        "\n",
        "Step 4: It will classify the new fruit based on which type the majority of these closest fruits belong to.\n",
        " If most of the closest fruits are apples, then it will classify the new fruit as an apple."
      ],
      "metadata": {
        "id": "OnHPFZqfSW3u"
      }
    },
    {
      "cell_type": "markdown",
      "source": [
        "**NAIVE BAYES**\n",
        "Simple Explanation:\n",
        "\n",
        "Imagine you’re a teacher trying to predict whether a student will pass or fail an exam based on their study habits and past performance. You have data about how many hours students studied and their grades in previous tests. Some students study more and tend to get higher grades, while others study less and usually get lower grades.\n",
        "\n",
        "The GaussianNB classifier helps you make predictions by assuming that the study hours and past grades are distributed in a certain way (like a bell curve) and then uses this information to predict whether a new student will pass or fail."
      ],
      "metadata": {
        "id": "pOX0PYD5TncC"
      }
    },
    {
      "cell_type": "markdown",
      "source": [
        "**SVC**\n",
        "Simple Explanation:\n",
        "Imagine you are a teacher and you want to divide your students into two groups based on their performance. You have information on how much time they spend studying and their test scores. The goal is to draw a line (or boundary) that best separates students who perform well from those who don't."
      ],
      "metadata": {
        "id": "L5Rqvb98Unuk"
      }
    },
    {
      "cell_type": "markdown",
      "source": [
        "**cross_val_score** is like giving your model multiple small tests instead of one big test, and\n",
        "\n",
        "*** StratifiedKFold *** ensures that these tests are fair and balanced, especially when you have uneven or imbalanced classes (like more apples than oranges).\n",
        "\n",
        "Real-Life Example:\n",
        "  Evaluating a Student's Performance\n",
        "\n",
        "  Imagine you’re a teacher, and you want to evaluate how well a student understands the material over a semester.\n",
        "\n",
        "  Instead of just giving them one big final exam, you give them several smaller quizzes throughout the semester."
      ],
      "metadata": {
        "id": "GlvALLfhWbs_"
      }
    },
    {
      "cell_type": "markdown",
      "source": [
        "Importing Libraries:\n",
        "\n",
        "1.*from sklearn.discriminant_analysis import LinearDiscriminantAnalysis*: Imports a method to classify data by finding a linear combination of features that best separates different classes.\n",
        "\n",
        "2.*from sklearn.linear_model import LogisticRegression*: Imports a method for classification that predicts the probability of a class based on a linear relationship between features.\n",
        "\n",
        "3.*from sklearn.tree import DecisionTreeClassifier*: Imports a method that classifies data using a tree-like model of decisions.\n",
        "\n",
        "4.*from sklearn.neighbors import KNeighborsClassifier*: Imports a method that classifies data based on the majority class among its nearest neighbors.\n",
        "\n",
        "5.*from sklearn.naive_bayes import GaussianNB*: Imports a method that uses probability theory to classify data, assuming features are normally distributed.\n",
        "\n",
        "6.*from sklearn.svm import SVC*: Imports a method for classification that finds the best boundary (or \"hyperplane\") that separates different classes.\n",
        "\n",
        "**Cross-Validation and Model Evaluation:**\n",
        "\n",
        "1.*from sklearn.model_selection import cross_val_score*: Imports a function that evaluates the performance of a model by splitting the data into multiple parts, training on some parts, and testing on the remaining parts. It helps assess how well a model performs on unseen data.\n",
        "\n",
        "2.*from sklearn.model_selection import StratifiedKFold*: Imports a tool to split the data into folds (or subsets) in such a way that each fold has a proportional representation of each class. This is useful for making sure that the evaluation is fair and reflects the class distribution."
      ],
      "metadata": {
        "id": "cFUYQ3Wj9Zin"
      }
    },
    {
      "cell_type": "code",
      "source": [
        "models=[]\n",
        "models.append(('LR', LogisticRegression(solver='liblinear', multi_class='ovr')))\n",
        "#This line of code is adding a logistic regression model to a list of models:\n",
        "\n",
        "#models.append: This adds an item to a list named models.\n",
        "\n",
        "#('LR', LogisticRegression(solver='liblinear', multi_class='ovr')):\n",
        "\n",
        "#'LR': This is a label or name for the model, which stands for Logistic Regression.\n",
        "#LogisticRegression(solver='liblinear', multi_class='ovr'): This creates a logistic regression model with specific settings:\n",
        "#solver='liblinear': Specifies the algorithm to use for finding the best parameters. 'liblinear' is good for small to medium-sized datasets.\n",
        "#multi_class='ovr': Stands for \"one-vs-rest,\" a strategy for handling multiple classes in classification problems."
      ],
      "metadata": {
        "id": "GGP7aE0Uufzq"
      },
      "execution_count": null,
      "outputs": []
    },
    {
      "cell_type": "code",
      "source": [
        "results=[]\n",
        "names=[]\n",
        "res=[]\n",
        "for name, model in models:\n",
        "  kfold = StratifiedKFold(n_splits=10, random_state=None)\n",
        "  cv_results = cross_val_score(model,X_train,y_train,cv=kfold, scoring='accuracy')\n",
        "  results.append(cv_results)\n",
        "  names.append(name)\n",
        "  res.append(cv_results.mean())\n",
        "  print('%s:%f' % (name, cv_results.mean()))\n",
        "\n",
        "  pyplot.ylim(.900,.999)"
      ],
      "metadata": {
        "colab": {
          "base_uri": "https://localhost:8080/",
          "height": 447
        },
        "id": "5dZdzEU_vcg9",
        "outputId": "272592ca-286e-4fc4-bc03-1895ae666ec6"
      },
      "execution_count": null,
      "outputs": [
        {
          "output_type": "stream",
          "name": "stdout",
          "text": [
            "LR:0.981285\n"
          ]
        },
        {
          "output_type": "display_data",
          "data": {
            "text/plain": [
              "<Figure size 640x480 with 1 Axes>"
            ],
            "image/png": "[encoded data removed]"
          },
          "metadata": {}
        }
      ]
    },
    {
      "cell_type": "markdown",
      "source": [
        "**results, names, and res** are empty lists. These will store data as the code runs.\n",
        "Loop Through Models:\n",
        "\n",
        "The loop runs through a list of machine learning models. Each name is the name of a model (e.g., \"Logistic Regression\", \"SVM\"), and model is the actual algorithm.\n",
        "\n",
        "**Cross-Validation:**\n",
        "\n",
        "**StratifiedKFold** is a technique used to split the training data (X_train and y_train) into 10 equal parts (called \"folds\"). This ensures that each fold has the same proportion of each class (like ensuring each fold has a balanced number of yes/no labels in a classification task).\n",
        "\n",
        "**cross_val_score** performs the model training and evaluation 10 times, each time using a different fold as the test set and the other 9 folds as the training set. The scoring='accuracy' parameter means it’s measuring how often the model correctly predicts the labels.\n",
        "\n",
        "**Storing Results:**\n",
        "\n",
        "**results.append(cv_results):** Adds the accuracy scores from the 10 folds to the results list.\n",
        "\n",
        "**names.append(name):** Adds the name of the model to the names list.\n",
        "\n",
        "**res.append(cv_results.mean()):** Calculates the average accuracy from the 10 folds and adds it to the res list.\n",
        "\n",
        "**print('%s:%f' % (name, cv_results.mean())):** Prints the name of the model along with its average accuracy.\n",
        "Setting Y-axis Limits:\n",
        "\n",
        "**pyplot.ylim(.900, .999):** This line sets the vertical axis (y-axis) of the plot to range between 0.900 and 0.999. This means only accuracy values within this range will be shown on the plot."
      ],
      "metadata": {
        "id": "WOs61N8i_Nje"
      }
    },
    {
      "cell_type": "code",
      "source": [
        "from sklearn.linear_model import LogisticRegression\n",
        "model=LogisticRegression()\n",
        "values=[12.45,15.7,82.57,477.1,0.1278,0.17,0.1578,0.08089,0.2087,0.07613,0.3345,0.8902,2.217,27.19,0.00751,0.03345,0.03672,0.01137,0.02165,0.005082,15.47,23.75,103.4,741.6,0.1791,0.5249,0.5355,0.1741,0.3985,0.1244]\n",
        "model.fit(X_train, y_train)\n",
        "y_pred = model.predict(X_test)\n",
        "print(np.concatenate((y_pred.reshape(len(y_pred),1),y_test.reshape(len(y_test),1)),1))"
      ],
      "metadata": {
        "colab": {
          "base_uri": "https://localhost:8080/"
        },
        "id": "_ibYFgSNxc7-",
        "outputId": "34d27281-5feb-4145-dbb6-b288ae7324fe"
      },
      "execution_count": null,
      "outputs": [
        {
          "output_type": "stream",
          "name": "stdout",
          "text": [
            "[[1 1]\n",
            " [0 0]\n",
            " [0 0]\n",
            " [0 0]\n",
            " [0 0]\n",
            " [0 0]\n",
            " [0 0]\n",
            " [0 0]\n",
            " [0 0]\n",
            " [0 0]\n",
            " [0 0]\n",
            " [0 0]\n",
            " [0 0]\n",
            " [1 0]\n",
            " [0 0]\n",
            " [1 1]\n",
            " [0 0]\n",
            " [1 1]\n",
            " [1 1]\n",
            " [1 1]\n",
            " [1 1]\n",
            " [1 1]\n",
            " [0 0]\n",
            " [0 0]\n",
            " [1 1]\n",
            " [0 0]\n",
            " [0 0]\n",
            " [1 1]\n",
            " [0 0]\n",
            " [1 1]\n",
            " [0 0]\n",
            " [1 1]\n",
            " [0 0]\n",
            " [1 1]\n",
            " [0 0]\n",
            " [1 1]\n",
            " [0 0]\n",
            " [1 1]\n",
            " [0 0]\n",
            " [1 1]\n",
            " [1 1]\n",
            " [0 0]\n",
            " [1 1]\n",
            " [0 0]\n",
            " [0 0]\n",
            " [1 1]\n",
            " [0 0]\n",
            " [0 0]\n",
            " [0 0]\n",
            " [1 1]\n",
            " [1 1]\n",
            " [1 1]\n",
            " [1 1]\n",
            " [0 0]\n",
            " [0 0]\n",
            " [0 0]\n",
            " [0 0]\n",
            " [0 0]\n",
            " [0 0]\n",
            " [1 1]\n",
            " [1 1]\n",
            " [1 1]\n",
            " [0 0]\n",
            " [0 0]\n",
            " [1 1]\n",
            " [0 0]\n",
            " [1 1]\n",
            " [1 1]\n",
            " [1 1]\n",
            " [0 0]\n",
            " [0 0]\n",
            " [1 1]\n",
            " [0 0]\n",
            " [1 1]\n",
            " [1 1]\n",
            " [0 0]\n",
            " [0 0]\n",
            " [0 0]\n",
            " [0 0]\n",
            " [0 0]\n",
            " [1 1]\n",
            " [1 1]\n",
            " [1 1]\n",
            " [0 0]\n",
            " [1 1]\n",
            " [0 0]\n",
            " [0 0]\n",
            " [0 0]\n",
            " [1 1]\n",
            " [1 1]\n",
            " [0 0]\n",
            " [1 1]\n",
            " [1 0]\n",
            " [1 1]\n",
            " [0 0]\n",
            " [0 0]\n",
            " [1 1]\n",
            " [0 0]\n",
            " [0 0]\n",
            " [0 0]\n",
            " [0 0]\n",
            " [0 0]\n",
            " [0 0]\n",
            " [0 0]\n",
            " [1 1]\n",
            " [0 0]\n",
            " [1 1]\n",
            " [0 0]\n",
            " [0 1]\n",
            " [0 1]\n",
            " [0 0]\n",
            " [1 1]\n",
            " [1 1]\n",
            " [0 0]\n",
            " [0 0]\n",
            " [0 0]\n",
            " [0 0]\n",
            " [0 0]\n",
            " [0 0]\n",
            " [0 0]\n",
            " [0 0]\n",
            " [0 0]\n",
            " [0 1]\n",
            " [0 0]\n",
            " [1 1]\n",
            " [0 0]\n",
            " [0 0]\n",
            " [0 0]\n",
            " [0 0]\n",
            " [0 0]\n",
            " [1 1]\n",
            " [0 0]\n",
            " [0 0]\n",
            " [0 0]\n",
            " [0 0]\n",
            " [0 0]\n",
            " [1 0]\n",
            " [1 1]\n",
            " [1 1]\n",
            " [0 0]\n",
            " [0 0]\n",
            " [0 0]\n",
            " [1 1]]\n"
          ]
        }
      ]
    },
    {
      "cell_type": "markdown",
      "source": [
        "Importing and Initializing the Model:\n",
        "\n",
        "from sklearn.linear_model import LogisticRegression: This imports the LogisticRegression model from the sklearn library.\n",
        "\n",
        "model = LogisticRegression(): This creates an instance of the LogisticRegression model, which is a type of algorithm used for classification tasks.\n",
        "\n",
        "Sample Data:\n",
        "\n",
        "values = [...]: This is a list of numerical values representing some features of a single data point. These features might be measurements or characteristics used to make predictions.\n",
        "\n",
        "Training the Model:\n",
        "\n",
        "model.fit(X_train, y_train): The fit method trains the LogisticRegression model using the training data (X_train for the features and y_train for the corresponding labels).\n",
        "\n",
        "Making Predictions:\n",
        "\n",
        "y_pred = model.predict(X_test): After training, the model is used to predict the labels (or outcomes) for the test data (X_test).\n",
        "\n",
        "Comparing Predictions to Actual Labels:\n",
        "\n",
        "print(np.concatenate((y_pred.reshape(len(y_pred), 1), y_test.reshape(len(y_test), 1)), 1)): This line of code is printing a side-by-side comparison of the predicted labels (y_pred) and the actual labels (y_test).\n",
        "\n",
        "Here's what happens in this line:\n",
        "\n",
        "y_pred.reshape(len(y_pred), 1) and y_test.reshape(len(y_test), 1) reshape the arrays of predicted and actual labels into column vectors (so they each become a single column with multiple rows).\n",
        "np.concatenate(..., 1) combines these two columns side by side, creating a matrix where each row shows the predicted label and the actual label for the same data point.\n",
        "print(...) outputs this comparison to the console."
      ],
      "metadata": {
        "id": "lJHpo7IDAMEl"
      }
    }
  ]
}